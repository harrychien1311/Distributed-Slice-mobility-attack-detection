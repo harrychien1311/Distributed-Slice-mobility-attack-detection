{
 "cells": [
  {
   "cell_type": "code",
   "execution_count": 1,
   "metadata": {},
   "outputs": [],
   "source": [
    "import pandas as pd\n",
    "import numpy as np"
   ]
  },
  {
   "cell_type": "code",
   "execution_count": 20,
   "metadata": {},
   "outputs": [
    {
     "name": "stdout",
     "output_type": "stream",
     "text": [
      "<class 'pandas.core.frame.DataFrame'>\n",
      "RangeIndex: 2120 entries, 0 to 2119\n",
      "Data columns (total 6 columns):\n",
      " #   Column         Non-Null Count  Dtype\n",
      "---  ------         --------------  -----\n",
      " 0   packet count   2120 non-null   int64\n",
      " 1   byte count     2120 non-null   int64\n",
      " 2   duration       2120 non-null   int64\n",
      " 3   idele timeout  2120 non-null   int64\n",
      " 4   hard timeout   2120 non-null   int64\n",
      " 5   Label          2120 non-null   int64\n",
      "dtypes: int64(6)\n",
      "memory usage: 99.5 KB\n"
     ]
    }
   ],
   "source": [
    "data=pd.read_csv(\"result.csv\", header=0)\n",
    "data.info()"
   ]
  },
  {
   "cell_type": "code",
   "execution_count": 3,
   "metadata": {},
   "outputs": [
    {
     "data": {
      "text/html": [
       "<div>\n",
       "<style scoped>\n",
       "    .dataframe tbody tr th:only-of-type {\n",
       "        vertical-align: middle;\n",
       "    }\n",
       "\n",
       "    .dataframe tbody tr th {\n",
       "        vertical-align: top;\n",
       "    }\n",
       "\n",
       "    .dataframe thead th {\n",
       "        text-align: right;\n",
       "    }\n",
       "</style>\n",
       "<table border=\"1\" class=\"dataframe\">\n",
       "  <thead>\n",
       "    <tr style=\"text-align: right;\">\n",
       "      <th></th>\n",
       "      <th>packet count</th>\n",
       "      <th>byte count</th>\n",
       "      <th>duration</th>\n",
       "      <th>idele timeout</th>\n",
       "      <th>hard timeout</th>\n",
       "      <th>Label</th>\n",
       "    </tr>\n",
       "  </thead>\n",
       "  <tbody>\n",
       "    <tr>\n",
       "      <th>0</th>\n",
       "      <td>0</td>\n",
       "      <td>0</td>\n",
       "      <td>0</td>\n",
       "      <td>0</td>\n",
       "      <td>0</td>\n",
       "      <td>0</td>\n",
       "    </tr>\n",
       "    <tr>\n",
       "      <th>1</th>\n",
       "      <td>2</td>\n",
       "      <td>196</td>\n",
       "      <td>2</td>\n",
       "      <td>0</td>\n",
       "      <td>0</td>\n",
       "      <td>0</td>\n",
       "    </tr>\n",
       "    <tr>\n",
       "      <th>2</th>\n",
       "      <td>4</td>\n",
       "      <td>392</td>\n",
       "      <td>4</td>\n",
       "      <td>0</td>\n",
       "      <td>0</td>\n",
       "      <td>0</td>\n",
       "    </tr>\n",
       "    <tr>\n",
       "      <th>3</th>\n",
       "      <td>6</td>\n",
       "      <td>588</td>\n",
       "      <td>6</td>\n",
       "      <td>0</td>\n",
       "      <td>0</td>\n",
       "      <td>0</td>\n",
       "    </tr>\n",
       "    <tr>\n",
       "      <th>4</th>\n",
       "      <td>8</td>\n",
       "      <td>784</td>\n",
       "      <td>8</td>\n",
       "      <td>0</td>\n",
       "      <td>0</td>\n",
       "      <td>0</td>\n",
       "    </tr>\n",
       "  </tbody>\n",
       "</table>\n",
       "</div>"
      ],
      "text/plain": [
       "   packet count  byte count  duration  idele timeout  hard timeout  Label\n",
       "0             0           0         0              0             0      0\n",
       "1             2         196         2              0             0      0\n",
       "2             4         392         4              0             0      0\n",
       "3             6         588         6              0             0      0\n",
       "4             8         784         8              0             0      0"
      ]
     },
     "execution_count": 3,
     "metadata": {},
     "output_type": "execute_result"
    }
   ],
   "source": [
    "data.head()"
   ]
  },
  {
   "cell_type": "code",
   "execution_count": 21,
   "metadata": {},
   "outputs": [],
   "source": [
    "data_X=data.values[:,:5]\n",
    "data_Y=data.values[:,-1]"
   ]
  },
  {
   "cell_type": "code",
   "execution_count": 5,
   "metadata": {},
   "outputs": [
    {
     "data": {
      "text/plain": [
       "(2120, 6)"
      ]
     },
     "execution_count": 5,
     "metadata": {},
     "output_type": "execute_result"
    }
   ],
   "source": [
    "data.shape"
   ]
  },
  {
   "cell_type": "code",
   "execution_count": 6,
   "metadata": {},
   "outputs": [
    {
     "data": {
      "text/html": [
       "<div>\n",
       "<style scoped>\n",
       "    .dataframe tbody tr th:only-of-type {\n",
       "        vertical-align: middle;\n",
       "    }\n",
       "\n",
       "    .dataframe tbody tr th {\n",
       "        vertical-align: top;\n",
       "    }\n",
       "\n",
       "    .dataframe thead th {\n",
       "        text-align: right;\n",
       "    }\n",
       "</style>\n",
       "<table border=\"1\" class=\"dataframe\">\n",
       "  <thead>\n",
       "    <tr style=\"text-align: right;\">\n",
       "      <th></th>\n",
       "      <th>Label</th>\n",
       "    </tr>\n",
       "  </thead>\n",
       "  <tbody>\n",
       "    <tr>\n",
       "      <th>0</th>\n",
       "      <td>0.520755</td>\n",
       "    </tr>\n",
       "    <tr>\n",
       "      <th>1</th>\n",
       "      <td>0.479245</td>\n",
       "    </tr>\n",
       "  </tbody>\n",
       "</table>\n",
       "</div>"
      ],
      "text/plain": [
       "      Label\n",
       "0  0.520755\n",
       "1  0.479245"
      ]
     },
     "execution_count": 6,
     "metadata": {},
     "output_type": "execute_result"
    }
   ],
   "source": [
    "data.Label.value_counts(normalize=True).to_frame()"
   ]
  },
  {
   "cell_type": "code",
   "execution_count": 7,
   "metadata": {},
   "outputs": [],
   "source": [
    "from sklearn import preprocessing"
   ]
  },
  {
   "cell_type": "code",
   "execution_count": 22,
   "metadata": {},
   "outputs": [
    {
     "data": {
      "text/plain": [
       "MinMaxScaler()"
      ]
     },
     "execution_count": 22,
     "metadata": {},
     "output_type": "execute_result"
    }
   ],
   "source": [
    "min_max_scaler=preprocessing.MinMaxScaler()\n",
    "scale_range=min_max_scaler.fit(data_X)\n",
    "scale_range"
   ]
  },
  {
   "cell_type": "code",
   "execution_count": 23,
   "metadata": {},
   "outputs": [
    {
     "data": {
      "text/plain": [
       "['scaler.gz']"
      ]
     },
     "execution_count": 23,
     "metadata": {},
     "output_type": "execute_result"
    }
   ],
   "source": [
    "import joblib\n",
    "joblib.dump(scale_range, 'scaler.gz')"
   ]
  },
  {
   "cell_type": "code",
   "execution_count": 24,
   "metadata": {},
   "outputs": [],
   "source": [
    "data_X=scale_range.transform(data_X)"
   ]
  },
  {
   "cell_type": "code",
   "execution_count": 11,
   "metadata": {},
   "outputs": [],
   "source": [
    "from sklearn.model_selection import train_test_split"
   ]
  },
  {
   "cell_type": "code",
   "execution_count": 25,
   "metadata": {},
   "outputs": [],
   "source": [
    "X_train, X_test, Y_train, Y_test = train_test_split(data_X, data_Y, test_size=0.2)#split the data"
   ]
  },
  {
   "cell_type": "code",
   "execution_count": 26,
   "metadata": {},
   "outputs": [],
   "source": [
    "from keras.models import Sequential\n",
    "from keras.layers import Dense\n",
    "from keras.layers import LSTM\n",
    "from keras.layers import Dropout\n",
    "from sklearn.preprocessing import MinMaxScaler\n",
    "from sklearn.metrics import mean_squared_error\n",
    "from sklearn.metrics import accuracy_score\n",
    "from sklearn.metrics import precision_score\n",
    "from sklearn.metrics import recall_score\n",
    "from sklearn.metrics import f1_score\n",
    "from sklearn.metrics import confusion_matrix"
   ]
  },
  {
   "cell_type": "code",
   "execution_count": 27,
   "metadata": {},
   "outputs": [],
   "source": [
    "#Model ANN\n",
    "model_ANN = Sequential([\n",
    "    Dense(12, activation='relu', input_dim=5),\n",
    "    Dense(15, activation='relu'),\n",
    "    Dense(18, activation='relu'),\n",
    "    Dense(1, activation='sigmoid')\n",
    "])\n",
    "model_ANN.compile(optimizer='adam',\n",
    "              loss='mean_squared_error',\n",
    "              metrics=['accuracy'])"
   ]
  },
  {
   "cell_type": "code",
   "execution_count": 28,
   "metadata": {},
   "outputs": [
    {
     "name": "stdout",
     "output_type": "stream",
     "text": [
      "Epoch 1/100\n",
      "34/34 [==============================] - 0s 3ms/step - loss: 0.2383 - accuracy: 0.6509 - val_loss: 0.2639 - val_accuracy: 0.0000e+00\n",
      "Epoch 2/100\n",
      "34/34 [==============================] - 0s 1ms/step - loss: 0.2074 - accuracy: 0.6651 - val_loss: 0.2740 - val_accuracy: 0.4953\n",
      "Epoch 3/100\n",
      "34/34 [==============================] - 0s 1ms/step - loss: 0.1637 - accuracy: 0.8019 - val_loss: 0.2618 - val_accuracy: 0.4953\n",
      "Epoch 4/100\n",
      "34/34 [==============================] - 0s 1ms/step - loss: 0.1156 - accuracy: 0.9127 - val_loss: 0.2160 - val_accuracy: 0.5071\n",
      "Epoch 5/100\n",
      "34/34 [==============================] - 0s 1ms/step - loss: 0.0762 - accuracy: 0.9428 - val_loss: 0.1604 - val_accuracy: 0.6698\n",
      "Epoch 6/100\n",
      "34/34 [==============================] - 0s 1ms/step - loss: 0.0501 - accuracy: 0.9652 - val_loss: 0.1308 - val_accuracy: 0.7594\n",
      "Epoch 7/100\n",
      "34/34 [==============================] - 0s 1ms/step - loss: 0.0349 - accuracy: 0.9705 - val_loss: 0.1000 - val_accuracy: 0.8420\n",
      "Epoch 8/100\n",
      "34/34 [==============================] - 0s 1ms/step - loss: 0.0268 - accuracy: 0.9788 - val_loss: 0.0979 - val_accuracy: 0.8373\n",
      "Epoch 9/100\n",
      "34/34 [==============================] - 0s 1ms/step - loss: 0.0218 - accuracy: 0.9817 - val_loss: 0.0814 - val_accuracy: 0.8750\n",
      "Epoch 10/100\n",
      "34/34 [==============================] - 0s 1ms/step - loss: 0.0187 - accuracy: 0.9853 - val_loss: 0.0845 - val_accuracy: 0.8585\n",
      "Epoch 11/100\n",
      "34/34 [==============================] - 0s 1ms/step - loss: 0.0164 - accuracy: 0.9853 - val_loss: 0.0677 - val_accuracy: 0.8962\n",
      "Epoch 12/100\n",
      "34/34 [==============================] - 0s 1ms/step - loss: 0.0146 - accuracy: 0.9882 - val_loss: 0.0673 - val_accuracy: 0.8915\n",
      "Epoch 13/100\n",
      "34/34 [==============================] - 0s 1ms/step - loss: 0.0134 - accuracy: 0.9876 - val_loss: 0.0601 - val_accuracy: 0.9057\n",
      "Epoch 14/100\n",
      "34/34 [==============================] - 0s 1ms/step - loss: 0.0123 - accuracy: 0.9870 - val_loss: 0.0590 - val_accuracy: 0.9057\n",
      "Epoch 15/100\n",
      "34/34 [==============================] - 0s 1ms/step - loss: 0.0112 - accuracy: 0.9906 - val_loss: 0.0459 - val_accuracy: 0.9363\n",
      "Epoch 16/100\n",
      "34/34 [==============================] - 0s 1ms/step - loss: 0.0105 - accuracy: 0.9894 - val_loss: 0.0414 - val_accuracy: 0.9458\n",
      "Epoch 17/100\n",
      "34/34 [==============================] - 0s 1ms/step - loss: 0.0098 - accuracy: 0.9923 - val_loss: 0.0419 - val_accuracy: 0.9410\n",
      "Epoch 18/100\n",
      "34/34 [==============================] - 0s 1ms/step - loss: 0.0092 - accuracy: 0.9900 - val_loss: 0.0361 - val_accuracy: 0.9505\n",
      "Epoch 19/100\n",
      "34/34 [==============================] - 0s 1ms/step - loss: 0.0085 - accuracy: 0.9935 - val_loss: 0.0419 - val_accuracy: 0.9340\n",
      "Epoch 20/100\n",
      "34/34 [==============================] - 0s 1ms/step - loss: 0.0080 - accuracy: 0.9923 - val_loss: 0.0407 - val_accuracy: 0.9363\n",
      "Epoch 21/100\n",
      "34/34 [==============================] - 0s 1ms/step - loss: 0.0078 - accuracy: 0.9923 - val_loss: 0.0390 - val_accuracy: 0.9363\n",
      "Epoch 22/100\n",
      "34/34 [==============================] - 0s 1ms/step - loss: 0.0072 - accuracy: 0.9941 - val_loss: 0.0342 - val_accuracy: 0.9458\n",
      "Epoch 23/100\n",
      "34/34 [==============================] - 0s 1ms/step - loss: 0.0068 - accuracy: 0.9935 - val_loss: 0.0295 - val_accuracy: 0.9575\n",
      "Epoch 24/100\n",
      "34/34 [==============================] - 0s 1ms/step - loss: 0.0065 - accuracy: 0.9941 - val_loss: 0.0326 - val_accuracy: 0.9481\n",
      "Epoch 25/100\n",
      "34/34 [==============================] - 0s 1ms/step - loss: 0.0063 - accuracy: 0.9935 - val_loss: 0.0313 - val_accuracy: 0.9505\n",
      "Epoch 26/100\n",
      "34/34 [==============================] - 0s 1ms/step - loss: 0.0059 - accuracy: 0.9941 - val_loss: 0.0260 - val_accuracy: 0.9623\n",
      "Epoch 27/100\n",
      "34/34 [==============================] - 0s 1ms/step - loss: 0.0058 - accuracy: 0.9953 - val_loss: 0.0258 - val_accuracy: 0.9623\n",
      "Epoch 28/100\n",
      "34/34 [==============================] - 0s 1ms/step - loss: 0.0055 - accuracy: 0.9941 - val_loss: 0.0200 - val_accuracy: 0.9741\n",
      "Epoch 29/100\n",
      "34/34 [==============================] - 0s 1ms/step - loss: 0.0055 - accuracy: 0.9959 - val_loss: 0.0195 - val_accuracy: 0.9764\n",
      "Epoch 30/100\n",
      "34/34 [==============================] - 0s 1ms/step - loss: 0.0052 - accuracy: 0.9959 - val_loss: 0.0206 - val_accuracy: 0.9717\n",
      "Epoch 31/100\n",
      "34/34 [==============================] - 0s 1ms/step - loss: 0.0050 - accuracy: 0.9953 - val_loss: 0.0196 - val_accuracy: 0.9717\n",
      "Epoch 32/100\n",
      "34/34 [==============================] - 0s 1ms/step - loss: 0.0048 - accuracy: 0.9965 - val_loss: 0.0218 - val_accuracy: 0.9670\n",
      "Epoch 33/100\n",
      "34/34 [==============================] - 0s 1ms/step - loss: 0.0047 - accuracy: 0.9959 - val_loss: 0.0190 - val_accuracy: 0.9717\n",
      "Epoch 34/100\n",
      "34/34 [==============================] - 0s 1ms/step - loss: 0.0045 - accuracy: 0.9959 - val_loss: 0.0163 - val_accuracy: 0.9788\n",
      "Epoch 35/100\n",
      "34/34 [==============================] - 0s 1ms/step - loss: 0.0045 - accuracy: 0.9959 - val_loss: 0.0182 - val_accuracy: 0.9741\n",
      "Epoch 36/100\n",
      "34/34 [==============================] - 0s 1ms/step - loss: 0.0043 - accuracy: 0.9965 - val_loss: 0.0214 - val_accuracy: 0.9670\n",
      "Epoch 37/100\n",
      "34/34 [==============================] - 0s 1ms/step - loss: 0.0042 - accuracy: 0.9965 - val_loss: 0.0171 - val_accuracy: 0.9764\n",
      "Epoch 38/100\n",
      "34/34 [==============================] - 0s 1ms/step - loss: 0.0041 - accuracy: 0.9965 - val_loss: 0.0193 - val_accuracy: 0.9693\n",
      "Epoch 39/100\n",
      "34/34 [==============================] - 0s 1ms/step - loss: 0.0041 - accuracy: 0.9959 - val_loss: 0.0194 - val_accuracy: 0.9693\n",
      "Epoch 40/100\n",
      "34/34 [==============================] - 0s 1ms/step - loss: 0.0038 - accuracy: 0.9965 - val_loss: 0.0121 - val_accuracy: 0.9882\n",
      "Epoch 41/100\n",
      "34/34 [==============================] - 0s 1ms/step - loss: 0.0042 - accuracy: 0.9965 - val_loss: 0.0162 - val_accuracy: 0.9764\n",
      "Epoch 42/100\n",
      "34/34 [==============================] - 0s 1ms/step - loss: 0.0037 - accuracy: 0.9976 - val_loss: 0.0148 - val_accuracy: 0.9788\n",
      "Epoch 43/100\n",
      "34/34 [==============================] - 0s 1ms/step - loss: 0.0037 - accuracy: 0.9965 - val_loss: 0.0209 - val_accuracy: 0.9670\n",
      "Epoch 44/100\n",
      "34/34 [==============================] - 0s 1ms/step - loss: 0.0036 - accuracy: 0.9971 - val_loss: 0.0156 - val_accuracy: 0.9764\n",
      "Epoch 45/100\n",
      "34/34 [==============================] - 0s 1ms/step - loss: 0.0035 - accuracy: 0.9971 - val_loss: 0.0215 - val_accuracy: 0.9623\n",
      "Epoch 46/100\n",
      "34/34 [==============================] - 0s 1ms/step - loss: 0.0036 - accuracy: 0.9971 - val_loss: 0.0099 - val_accuracy: 0.9906\n",
      "Epoch 47/100\n",
      "34/34 [==============================] - 0s 1ms/step - loss: 0.0035 - accuracy: 0.9965 - val_loss: 0.0109 - val_accuracy: 0.9882\n",
      "Epoch 48/100\n",
      "34/34 [==============================] - 0s 1ms/step - loss: 0.0033 - accuracy: 0.9971 - val_loss: 0.0182 - val_accuracy: 0.9693\n",
      "Epoch 49/100\n",
      "34/34 [==============================] - 0s 1ms/step - loss: 0.0031 - accuracy: 0.9976 - val_loss: 0.0087 - val_accuracy: 0.9929\n",
      "Epoch 50/100\n",
      "34/34 [==============================] - 0s 1ms/step - loss: 0.0031 - accuracy: 0.9976 - val_loss: 0.0147 - val_accuracy: 0.9764\n",
      "Epoch 51/100\n",
      "34/34 [==============================] - 0s 1ms/step - loss: 0.0030 - accuracy: 0.9976 - val_loss: 0.0145 - val_accuracy: 0.9764\n",
      "Epoch 52/100\n",
      "34/34 [==============================] - 0s 1ms/step - loss: 0.0029 - accuracy: 0.9971 - val_loss: 0.0104 - val_accuracy: 0.9882\n",
      "Epoch 53/100\n",
      "34/34 [==============================] - 0s 1ms/step - loss: 0.0031 - accuracy: 0.9971 - val_loss: 0.0190 - val_accuracy: 0.9670\n",
      "Epoch 54/100\n",
      "34/34 [==============================] - 0s 1ms/step - loss: 0.0030 - accuracy: 0.9971 - val_loss: 0.0151 - val_accuracy: 0.9764\n",
      "Epoch 55/100\n",
      "34/34 [==============================] - 0s 1ms/step - loss: 0.0029 - accuracy: 0.9971 - val_loss: 0.0130 - val_accuracy: 0.9788\n",
      "Epoch 56/100\n",
      "34/34 [==============================] - 0s 1ms/step - loss: 0.0030 - accuracy: 0.9982 - val_loss: 0.0210 - val_accuracy: 0.9623\n",
      "Epoch 57/100\n",
      "34/34 [==============================] - 0s 1ms/step - loss: 0.0029 - accuracy: 0.9976 - val_loss: 0.0088 - val_accuracy: 0.9882\n",
      "Epoch 58/100\n",
      "34/34 [==============================] - 0s 1ms/step - loss: 0.0026 - accuracy: 0.9971 - val_loss: 0.0111 - val_accuracy: 0.9835\n"
     ]
    },
    {
     "name": "stdout",
     "output_type": "stream",
     "text": [
      "Epoch 59/100\n",
      "34/34 [==============================] - 0s 1ms/step - loss: 0.0028 - accuracy: 0.9971 - val_loss: 0.0089 - val_accuracy: 0.9882\n",
      "Epoch 60/100\n",
      "34/34 [==============================] - 0s 1ms/step - loss: 0.0025 - accuracy: 0.9982 - val_loss: 0.0134 - val_accuracy: 0.9764\n",
      "Epoch 61/100\n",
      "34/34 [==============================] - 0s 1ms/step - loss: 0.0025 - accuracy: 0.9971 - val_loss: 0.0084 - val_accuracy: 0.9882\n",
      "Epoch 62/100\n",
      "34/34 [==============================] - 0s 1ms/step - loss: 0.0024 - accuracy: 0.9982 - val_loss: 0.0112 - val_accuracy: 0.9835\n",
      "Epoch 63/100\n",
      "34/34 [==============================] - 0s 1ms/step - loss: 0.0024 - accuracy: 0.9976 - val_loss: 0.0091 - val_accuracy: 0.9882\n",
      "Epoch 64/100\n",
      "34/34 [==============================] - 0s 1ms/step - loss: 0.0028 - accuracy: 0.9976 - val_loss: 0.0079 - val_accuracy: 0.9906\n",
      "Epoch 65/100\n",
      "34/34 [==============================] - 0s 1ms/step - loss: 0.0026 - accuracy: 0.9971 - val_loss: 0.0078 - val_accuracy: 0.9906\n",
      "Epoch 66/100\n",
      "34/34 [==============================] - 0s 1ms/step - loss: 0.0023 - accuracy: 0.9988 - val_loss: 0.0117 - val_accuracy: 0.9811\n",
      "Epoch 67/100\n",
      "34/34 [==============================] - 0s 1ms/step - loss: 0.0023 - accuracy: 0.9976 - val_loss: 0.0115 - val_accuracy: 0.9811\n",
      "Epoch 68/100\n",
      "34/34 [==============================] - 0s 1ms/step - loss: 0.0022 - accuracy: 0.9976 - val_loss: 0.0098 - val_accuracy: 0.9835\n",
      "Epoch 69/100\n",
      "34/34 [==============================] - 0s 1ms/step - loss: 0.0022 - accuracy: 0.9976 - val_loss: 0.0109 - val_accuracy: 0.9835\n",
      "Epoch 70/100\n",
      "34/34 [==============================] - 0s 1ms/step - loss: 0.0023 - accuracy: 0.9982 - val_loss: 0.0066 - val_accuracy: 0.9929\n",
      "Epoch 71/100\n",
      "34/34 [==============================] - 0s 1ms/step - loss: 0.0023 - accuracy: 0.9982 - val_loss: 0.0076 - val_accuracy: 0.9882\n",
      "Epoch 72/100\n",
      "34/34 [==============================] - 0s 1ms/step - loss: 0.0021 - accuracy: 0.9982 - val_loss: 0.0076 - val_accuracy: 0.9882\n",
      "Epoch 73/100\n",
      "34/34 [==============================] - 0s 1ms/step - loss: 0.0022 - accuracy: 0.9976 - val_loss: 0.0047 - val_accuracy: 0.9976\n",
      "Epoch 74/100\n",
      "34/34 [==============================] - 0s 1ms/step - loss: 0.0023 - accuracy: 0.9976 - val_loss: 0.0056 - val_accuracy: 0.9976\n",
      "Epoch 75/100\n",
      "34/34 [==============================] - 0s 1ms/step - loss: 0.0022 - accuracy: 0.9971 - val_loss: 0.0092 - val_accuracy: 0.9858\n",
      "Epoch 76/100\n",
      "34/34 [==============================] - 0s 1ms/step - loss: 0.0020 - accuracy: 0.9988 - val_loss: 0.0089 - val_accuracy: 0.9858\n",
      "Epoch 77/100\n",
      "34/34 [==============================] - 0s 1ms/step - loss: 0.0021 - accuracy: 0.9982 - val_loss: 0.0138 - val_accuracy: 0.9764\n",
      "Epoch 78/100\n",
      "34/34 [==============================] - 0s 1ms/step - loss: 0.0021 - accuracy: 0.9982 - val_loss: 0.0098 - val_accuracy: 0.9835\n",
      "Epoch 79/100\n",
      "34/34 [==============================] - 0s 1ms/step - loss: 0.0020 - accuracy: 0.9982 - val_loss: 0.0123 - val_accuracy: 0.9788\n",
      "Epoch 80/100\n",
      "34/34 [==============================] - 0s 1ms/step - loss: 0.0020 - accuracy: 0.9982 - val_loss: 0.0108 - val_accuracy: 0.9811\n",
      "Epoch 81/100\n",
      "34/34 [==============================] - 0s 1ms/step - loss: 0.0019 - accuracy: 0.9982 - val_loss: 0.0049 - val_accuracy: 0.9976\n",
      "Epoch 82/100\n",
      "34/34 [==============================] - 0s 1ms/step - loss: 0.0019 - accuracy: 0.9982 - val_loss: 0.0090 - val_accuracy: 0.9858\n",
      "Epoch 83/100\n",
      "34/34 [==============================] - 0s 1ms/step - loss: 0.0018 - accuracy: 0.9988 - val_loss: 0.0091 - val_accuracy: 0.9858\n",
      "Epoch 84/100\n",
      "34/34 [==============================] - 0s 1ms/step - loss: 0.0021 - accuracy: 0.9982 - val_loss: 0.0078 - val_accuracy: 0.9882\n",
      "Epoch 85/100\n",
      "34/34 [==============================] - 0s 1ms/step - loss: 0.0018 - accuracy: 0.9982 - val_loss: 0.0081 - val_accuracy: 0.9882\n",
      "Epoch 86/100\n",
      "34/34 [==============================] - 0s 1ms/step - loss: 0.0018 - accuracy: 0.9988 - val_loss: 0.0097 - val_accuracy: 0.9835\n",
      "Epoch 87/100\n",
      "34/34 [==============================] - 0s 1ms/step - loss: 0.0018 - accuracy: 0.9976 - val_loss: 0.0035 - val_accuracy: 1.0000\n",
      "Epoch 88/100\n",
      "34/34 [==============================] - 0s 1ms/step - loss: 0.0018 - accuracy: 0.9982 - val_loss: 0.0084 - val_accuracy: 0.9858\n",
      "Epoch 89/100\n",
      "34/34 [==============================] - 0s 1ms/step - loss: 0.0020 - accuracy: 0.9971 - val_loss: 0.0049 - val_accuracy: 0.9976\n",
      "Epoch 90/100\n",
      "34/34 [==============================] - 0s 1ms/step - loss: 0.0017 - accuracy: 0.9988 - val_loss: 0.0101 - val_accuracy: 0.9835\n",
      "Epoch 91/100\n",
      "34/34 [==============================] - 0s 1ms/step - loss: 0.0018 - accuracy: 0.9976 - val_loss: 0.0087 - val_accuracy: 0.9858\n",
      "Epoch 92/100\n",
      "34/34 [==============================] - 0s 1ms/step - loss: 0.0017 - accuracy: 0.9994 - val_loss: 0.0096 - val_accuracy: 0.9835\n",
      "Epoch 93/100\n",
      "34/34 [==============================] - 0s 1ms/step - loss: 0.0018 - accuracy: 0.9982 - val_loss: 0.0111 - val_accuracy: 0.9811\n",
      "Epoch 94/100\n",
      "34/34 [==============================] - 0s 1ms/step - loss: 0.0020 - accuracy: 0.9971 - val_loss: 0.0081 - val_accuracy: 0.9882\n",
      "Epoch 95/100\n",
      "34/34 [==============================] - 0s 1ms/step - loss: 0.0016 - accuracy: 0.9976 - val_loss: 0.0047 - val_accuracy: 0.9929\n",
      "Epoch 96/100\n",
      "34/34 [==============================] - 0s 1ms/step - loss: 0.0021 - accuracy: 0.9982 - val_loss: 0.0057 - val_accuracy: 0.9929\n",
      "Epoch 97/100\n",
      "34/34 [==============================] - 0s 1ms/step - loss: 0.0017 - accuracy: 0.9988 - val_loss: 0.0086 - val_accuracy: 0.9858\n",
      "Epoch 98/100\n",
      "34/34 [==============================] - 0s 1ms/step - loss: 0.0015 - accuracy: 0.9988 - val_loss: 0.0049 - val_accuracy: 0.9929\n",
      "Epoch 99/100\n",
      "34/34 [==============================] - 0s 1ms/step - loss: 0.0015 - accuracy: 1.0000 - val_loss: 0.0125 - val_accuracy: 0.9788\n",
      "Epoch 100/100\n",
      "34/34 [==============================] - 0s 1ms/step - loss: 0.0018 - accuracy: 0.9982 - val_loss: 0.0069 - val_accuracy: 0.9882\n"
     ]
    }
   ],
   "source": [
    "history = model_ANN.fit(data_X, data_Y, epochs = 100,validation_split=0.2, verbose = 1, batch_size=50)"
   ]
  },
  {
   "cell_type": "code",
   "execution_count": 78,
   "metadata": {},
   "outputs": [],
   "source": [
    "model_ANN.save(\"model_ANN2.h5\")"
   ]
  },
  {
   "cell_type": "code",
   "execution_count": 29,
   "metadata": {},
   "outputs": [
    {
     "data": {
      "text/plain": [
       "Text(0.5, 51.0, 'Predicted')"
      ]
     },
     "execution_count": 29,
     "metadata": {},
     "output_type": "execute_result"
    },
    {
     "data": {
      "image/png": "[encoded data removed]",
      "text/plain": [
       "<Figure size 576x576 with 2 Axes>"
      ]
     },
     "metadata": {
      "needs_background": "light"
     },
     "output_type": "display_data"
    }
   ],
   "source": [
    "from sklearn.metrics import confusion_matrix\n",
    "import seaborn as sns \n",
    "import matplotlib.pyplot as plt\n",
    "y_pred=(model_ANN.predict(X_test)>0.8).astype(\"int32\")\n",
    "conf_mat = confusion_matrix(Y_test, y_pred)\n",
    "fig, ax = plt.subplots(figsize=(8,8))\n",
    "sns.heatmap(conf_mat, annot=True, cmap=\"Blues\", fmt='d')\n",
    "plt.ylabel('Actual')\n",
    "plt.xlabel('Predicted')"
   ]
  },
  {
   "cell_type": "code",
   "execution_count": 30,
   "metadata": {},
   "outputs": [
    {
     "name": "stdout",
     "output_type": "stream",
     "text": [
      "Classification Report: \n",
      "               precision    recall  f1-score   support\n",
      "\n",
      "           0       0.99      1.00      0.99       231\n",
      "           1       1.00      0.98      0.99       193\n",
      "\n",
      "    accuracy                           0.99       424\n",
      "   macro avg       0.99      0.99      0.99       424\n",
      "weighted avg       0.99      0.99      0.99       424\n",
      "\n"
     ]
    }
   ],
   "source": [
    "from sklearn.metrics import classification_report\n",
    "print(f'Classification Report: \\n {classification_report(Y_test,y_pred)}')"
   ]
  },
  {
   "cell_type": "code",
   "execution_count": 31,
   "metadata": {},
   "outputs": [],
   "source": [
    "from sklearn.metrics import accuracy_score\n",
    "from sklearn.metrics import precision_score\n",
    "from sklearn.metrics import recall_score\n",
    "from sklearn.metrics import f1_score"
   ]
  },
  {
   "cell_type": "code",
   "execution_count": 33,
   "metadata": {},
   "outputs": [
    {
     "name": "stdout",
     "output_type": "stream",
     "text": [
      "Accuracy: 0.992925\n",
      "Precison: 1.000000\n",
      "Recall: 0.984456\n",
      "F1: 0.992167\n"
     ]
    }
   ],
   "source": [
    "accuracy = accuracy_score(Y_test, y_pred)\n",
    "print('Accuracy: %f' %accuracy)\n",
    "precision = precision_score(Y_test, y_pred)\n",
    "print('Precison: %f' %precision)\n",
    "recall = recall_score(Y_test, y_pred)\n",
    "print('Recall: %f' %recall)\n",
    "f1 = f1_score(Y_test, y_pred)\n",
    "print('F1: %f' %f1)"
   ]
  },
  {
   "cell_type": "code",
   "execution_count": 34,
   "metadata": {},
   "outputs": [],
   "source": [
    "features_size=data_X.shape[1]#number of features\n",
    "window_size= 30#sequence length of input\n",
    "samples=data_X.shape[0]-window_size#number of samples"
   ]
  },
  {
   "cell_type": "code",
   "execution_count": 35,
   "metadata": {},
   "outputs": [],
   "source": [
    "I = np.zeros((samples, window_size, features_size))\n",
    "for i in range(samples):\n",
    "    temp=np.zeros((window_size, features_size))\n",
    "    for j in range(i,i+window_size-1):\n",
    "        temp[j-i] = data_X[j]\n",
    "    I[i]=temp"
   ]
  },
  {
   "cell_type": "code",
   "execution_count": 36,
   "metadata": {},
   "outputs": [],
   "source": [
    "X_train, X_test, Y_train, Y_test = train_test_split(I, data_Y[30:], test_size=0.2)#split the data"
   ]
  },
  {
   "cell_type": "code",
   "execution_count": 42,
   "metadata": {},
   "outputs": [
    {
     "data": {
      "text/plain": [
       "(1672, 30, 5)"
      ]
     },
     "execution_count": 42,
     "metadata": {},
     "output_type": "execute_result"
    }
   ],
   "source": [
    "X_train.shape"
   ]
  },
  {
   "cell_type": "code",
   "execution_count": 15,
   "metadata": {},
   "outputs": [],
   "source": [
    "from keras.models import Sequential, load_model\n",
    "from keras.layers import Dense, LSTM, Bidirectional"
   ]
  },
  {
   "cell_type": "code",
   "execution_count": 16,
   "metadata": {},
   "outputs": [],
   "source": [
    "model = Sequential()\n",
    "    \n",
    "model.add(Bidirectional(LSTM(64, activation='tanh', kernel_regularizer='l2')))\n",
    "model.add(Dense(128, activation = 'relu', kernel_regularizer='l2'))\n",
    "model.add(Dense(1, activation = 'sigmoid', kernel_regularizer='l2'))\n",
    "    \n",
    "model.compile(loss = 'binary_crossentropy', optimizer = 'adam', metrics = ['accuracy'])"
   ]
  },
  {
   "cell_type": "code",
   "execution_count": 17,
   "metadata": {},
   "outputs": [
    {
     "name": "stdout",
     "output_type": "stream",
     "text": [
      "Epoch 1/40\n",
      "42/42 [==============================] - 3s 20ms/step - loss: 1.3538 - accuracy: 0.9791 - val_loss: 0.7208 - val_accuracy: 0.9940\n",
      "Epoch 2/40\n",
      "42/42 [==============================] - 0s 9ms/step - loss: 0.5584 - accuracy: 0.9746 - val_loss: 0.4691 - val_accuracy: 0.9134\n",
      "Epoch 3/40\n",
      "42/42 [==============================] - 0s 9ms/step - loss: 0.3260 - accuracy: 0.9596 - val_loss: 0.1852 - val_accuracy: 1.0000\n",
      "Epoch 4/40\n",
      "42/42 [==============================] - 0s 9ms/step - loss: 0.1822 - accuracy: 0.9903 - val_loss: 0.1152 - val_accuracy: 1.0000\n",
      "Epoch 5/40\n",
      "42/42 [==============================] - 0s 9ms/step - loss: 0.1319 - accuracy: 0.9903 - val_loss: 0.0812 - val_accuracy: 1.0000\n",
      "Epoch 6/40\n",
      "42/42 [==============================] - 0s 9ms/step - loss: 0.2500 - accuracy: 0.9297 - val_loss: 0.2012 - val_accuracy: 0.9612\n",
      "Epoch 7/40\n",
      "42/42 [==============================] - 0s 9ms/step - loss: 0.2516 - accuracy: 0.9514 - val_loss: 0.2155 - val_accuracy: 0.9313\n",
      "Epoch 8/40\n",
      "42/42 [==============================] - 0s 9ms/step - loss: 0.1581 - accuracy: 0.9678 - val_loss: 0.1646 - val_accuracy: 0.9582\n",
      "Epoch 9/40\n",
      "42/42 [==============================] - 0s 9ms/step - loss: 0.1462 - accuracy: 0.9686 - val_loss: 0.1038 - val_accuracy: 0.9940\n",
      "Epoch 10/40\n",
      "42/42 [==============================] - 0s 9ms/step - loss: 0.1165 - accuracy: 0.9835 - val_loss: 0.0834 - val_accuracy: 0.9910\n",
      "Epoch 11/40\n",
      "42/42 [==============================] - 0s 9ms/step - loss: 0.1095 - accuracy: 0.9820 - val_loss: 0.0661 - val_accuracy: 0.9940\n",
      "Epoch 12/40\n",
      "42/42 [==============================] - 0s 9ms/step - loss: 0.0972 - accuracy: 0.9828 - val_loss: 0.0596 - val_accuracy: 0.9940\n",
      "Epoch 13/40\n",
      "42/42 [==============================] - 0s 9ms/step - loss: 0.0961 - accuracy: 0.9806 - val_loss: 0.0993 - val_accuracy: 0.9940\n",
      "Epoch 14/40\n",
      "42/42 [==============================] - 0s 9ms/step - loss: 0.1079 - accuracy: 0.9835 - val_loss: 0.0743 - val_accuracy: 0.9881\n",
      "Epoch 15/40\n",
      "42/42 [==============================] - 0s 9ms/step - loss: 0.1031 - accuracy: 0.9820 - val_loss: 0.0689 - val_accuracy: 0.9940\n",
      "Epoch 16/40\n",
      "42/42 [==============================] - 0s 9ms/step - loss: 0.1110 - accuracy: 0.9753 - val_loss: 0.0656 - val_accuracy: 0.9940\n",
      "Epoch 17/40\n",
      "42/42 [==============================] - 0s 9ms/step - loss: 0.1008 - accuracy: 0.9798 - val_loss: 0.0624 - val_accuracy: 0.9940\n",
      "Epoch 18/40\n",
      "42/42 [==============================] - 0s 9ms/step - loss: 0.1006 - accuracy: 0.9828 - val_loss: 0.1294 - val_accuracy: 0.9761\n",
      "Epoch 19/40\n",
      "42/42 [==============================] - 0s 9ms/step - loss: 0.1107 - accuracy: 0.9843 - val_loss: 0.0599 - val_accuracy: 1.0000\n",
      "Epoch 20/40\n",
      "42/42 [==============================] - 0s 9ms/step - loss: 0.0899 - accuracy: 0.9903 - val_loss: 0.1351 - val_accuracy: 0.9701\n",
      "Epoch 21/40\n",
      "42/42 [==============================] - 0s 9ms/step - loss: 0.1531 - accuracy: 0.9611 - val_loss: 0.0849 - val_accuracy: 0.9940\n",
      "Epoch 22/40\n",
      "42/42 [==============================] - 0s 9ms/step - loss: 0.1145 - accuracy: 0.9828 - val_loss: 0.1319 - val_accuracy: 0.9672\n",
      "Epoch 23/40\n",
      "42/42 [==============================] - 0s 9ms/step - loss: 0.1398 - accuracy: 0.9678 - val_loss: 0.0745 - val_accuracy: 0.9940\n",
      "Epoch 24/40\n",
      "42/42 [==============================] - 0s 9ms/step - loss: 0.1007 - accuracy: 0.9843 - val_loss: 0.0886 - val_accuracy: 0.9821\n",
      "Epoch 25/40\n",
      "42/42 [==============================] - 0s 9ms/step - loss: 0.1061 - accuracy: 0.9798 - val_loss: 0.0841 - val_accuracy: 0.9761\n",
      "Epoch 26/40\n",
      "42/42 [==============================] - 0s 9ms/step - loss: 0.1107 - accuracy: 0.9753 - val_loss: 0.0628 - val_accuracy: 0.9881\n",
      "Epoch 27/40\n",
      "42/42 [==============================] - 0s 9ms/step - loss: 0.0928 - accuracy: 0.9858 - val_loss: 0.1031 - val_accuracy: 0.9642\n",
      "Epoch 28/40\n",
      "42/42 [==============================] - 0s 9ms/step - loss: 0.1101 - accuracy: 0.9761 - val_loss: 0.0747 - val_accuracy: 0.9940\n",
      "Epoch 29/40\n",
      "42/42 [==============================] - 0s 9ms/step - loss: 0.1017 - accuracy: 0.9813 - val_loss: 0.0666 - val_accuracy: 0.9940\n",
      "Epoch 30/40\n",
      "42/42 [==============================] - 0s 9ms/step - loss: 0.0914 - accuracy: 0.9843 - val_loss: 0.0635 - val_accuracy: 0.9940\n",
      "Epoch 31/40\n",
      "42/42 [==============================] - 0s 9ms/step - loss: 0.1295 - accuracy: 0.9753 - val_loss: 0.0879 - val_accuracy: 0.9940\n",
      "Epoch 32/40\n",
      "42/42 [==============================] - 0s 9ms/step - loss: 0.1263 - accuracy: 0.9806 - val_loss: 0.0823 - val_accuracy: 0.9940\n",
      "Epoch 33/40\n",
      "42/42 [==============================] - 0s 9ms/step - loss: 0.1286 - accuracy: 0.9783 - val_loss: 0.0969 - val_accuracy: 0.9940\n",
      "Epoch 34/40\n",
      "42/42 [==============================] - 0s 9ms/step - loss: 0.1182 - accuracy: 0.9843 - val_loss: 0.0783 - val_accuracy: 0.9940\n",
      "Epoch 35/40\n",
      "42/42 [==============================] - 0s 9ms/step - loss: 0.1094 - accuracy: 0.9843 - val_loss: 0.0749 - val_accuracy: 0.9940\n",
      "Epoch 36/40\n",
      "42/42 [==============================] - 0s 9ms/step - loss: 0.1170 - accuracy: 0.9813 - val_loss: 0.1035 - val_accuracy: 0.9731\n",
      "Epoch 37/40\n",
      "42/42 [==============================] - 0s 9ms/step - loss: 0.1161 - accuracy: 0.9813 - val_loss: 0.0739 - val_accuracy: 0.9940\n",
      "Epoch 38/40\n",
      "42/42 [==============================] - 0s 9ms/step - loss: 0.1158 - accuracy: 0.9806 - val_loss: 0.1876 - val_accuracy: 0.9582\n",
      "Epoch 39/40\n",
      "42/42 [==============================] - 0s 10ms/step - loss: 0.1233 - accuracy: 0.9806 - val_loss: 0.0739 - val_accuracy: 0.9940\n",
      "Epoch 40/40\n",
      "42/42 [==============================] - 0s 10ms/step - loss: 0.1120 - accuracy: 0.9820 - val_loss: 0.0715 - val_accuracy: 0.9940\n"
     ]
    }
   ],
   "source": [
    "history = model.fit(X_train, Y_train, epochs = 40,validation_split=0.2, verbose = 1)"
   ]
  },
  {
   "cell_type": "code",
   "execution_count": 37,
   "metadata": {},
   "outputs": [
    {
     "data": {
      "text/plain": [
       "Text(0.5, 51.0, 'Predicted')"
      ]
     },
     "execution_count": 37,
     "metadata": {},
     "output_type": "execute_result"
    },
    {
     "data": {
      "image/png": "[encoded data removed]",
      "text/plain": [
       "<Figure size 576x576 with 2 Axes>"
      ]
     },
     "metadata": {
      "needs_background": "light"
     },
     "output_type": "display_data"
    }
   ],
   "source": [
    "from sklearn.metrics import confusion_matrix\n",
    "import seaborn as sns \n",
    "import matplotlib.pyplot as plt\n",
    "y_pred=(model.predict(X_test)>0.8).astype(\"int32\")\n",
    "conf_mat = confusion_matrix(Y_test, y_pred)\n",
    "fig, ax = plt.subplots(figsize=(8,8))\n",
    "sns.heatmap(conf_mat, annot=True, cmap=\"Blues\", fmt='d')\n",
    "plt.ylabel('Actual')\n",
    "plt.xlabel('Predicted')"
   ]
  },
  {
   "cell_type": "code",
   "execution_count": 38,
   "metadata": {},
   "outputs": [
    {
     "name": "stdout",
     "output_type": "stream",
     "text": [
      "Classification Report: \n",
      "               precision    recall  f1-score   support\n",
      "\n",
      "           0       0.98      1.00      0.99       211\n",
      "           1       1.00      0.98      0.99       207\n",
      "\n",
      "    accuracy                           0.99       418\n",
      "   macro avg       0.99      0.99      0.99       418\n",
      "weighted avg       0.99      0.99      0.99       418\n",
      "\n"
     ]
    }
   ],
   "source": [
    "from sklearn.metrics import classification_report\n",
    "print(f'Classification Report: \\n {classification_report(Y_test,y_pred)}')"
   ]
  },
  {
   "cell_type": "code",
   "execution_count": 39,
   "metadata": {},
   "outputs": [
    {
     "name": "stdout",
     "output_type": "stream",
     "text": [
      "Accuracy: 0.988038\n",
      "Precison: 1.000000\n",
      "Recall: 0.975845\n",
      "F1: 0.987775\n"
     ]
    }
   ],
   "source": [
    "accuracy = accuracy_score(Y_test, y_pred)\n",
    "print('Accuracy: %f' %accuracy)\n",
    "precision = precision_score(Y_test, y_pred)\n",
    "print('Precison: %f' %precision)\n",
    "recall = recall_score(Y_test, y_pred)\n",
    "print('Recall: %f' %recall)\n",
    "f1 = f1_score(Y_test, y_pred)\n",
    "print('F1: %f' %f1)"
   ]
  },
  {
   "cell_type": "markdown",
   "metadata": {},
   "source": [
    "# Now we will use the transformer model"
   ]
  },
  {
   "cell_type": "code",
   "execution_count": 43,
   "metadata": {},
   "outputs": [],
   "source": [
    "import tensorflow as tf"
   ]
  },
  {
   "cell_type": "code",
   "execution_count": 44,
   "metadata": {},
   "outputs": [],
   "source": [
    "def get_angles(pos, i, d_model):\n",
    "    angle_rates = 1 / np.power(10000, (2 * (i//2)) / np.float32(d_model))\n",
    "    return pos * angle_rates\n",
    "\n",
    "\n",
    "def positional_encoding(position, d_model):\n",
    "    angle_rads = get_angles( np.arange(position)[:, np.newaxis], np.arange(d_model)[np.newaxis, :], d_model)\n",
    "    \n",
    "    # apply sin to even indices in the array; 2i\n",
    "    angle_rads[:, 0::2] = np.sin(angle_rads[:, 0::2])\n",
    "    \n",
    "    # apply cos to odd indices in the array; 2i+1\n",
    "    angle_rads[:, 1::2] = np.cos(angle_rads[:, 1::2])\n",
    "    pos_encoding = angle_rads[np.newaxis, ...]\n",
    "    return tf.cast(pos_encoding, dtype=tf.float32)"
   ]
  },
  {
   "cell_type": "code",
   "execution_count": 45,
   "metadata": {},
   "outputs": [],
   "source": [
    "def transformer_encoder(inputs, head_size, num_heads, ff_dim, dropout=0):\n",
    "    # Normalization and Attention\n",
    "    x = tf.keras.layers.LayerNormalization(epsilon=1e-6)(inputs)\n",
    "    x = tf.keras.layers.MultiHeadAttention(\n",
    "        key_dim=head_size, num_heads=num_heads, dropout=dropout)(x, x)\n",
    "    x = tf.keras.layers.Dropout(dropout)(x)\n",
    "\n",
    "    # Feed Forward Part\n",
    "    x = tf.keras.layers.LayerNormalization(epsilon=1e-6)(x)\n",
    "    x = tf.keras.layers.Conv1D(filters=ff_dim, kernel_size=1, activation=\"relu\")(x)\n",
    "    x = tf.keras.layers.Dropout(dropout)(x)\n",
    "    x = tf.keras.layers.Conv1D(filters=inputs.shape[-1], kernel_size=1)(x)\n",
    "    return x"
   ]
  },
  {
   "cell_type": "code",
   "execution_count": 46,
   "metadata": {},
   "outputs": [],
   "source": [
    "def build_model(\n",
    "    input_shape,\n",
    "    head_size,\n",
    "    num_heads,\n",
    "    ff_dim,\n",
    "    num_transformer_blocks,\n",
    "    mlp_units,\n",
    "    dropout=0,\n",
    "    mlp_dropout=0,\n",
    "):\n",
    "    inputs = tf.keras.Input(shape=input_shape)\n",
    "    pos_encoding=positional_encoding(input_shape[0], window_size)\n",
    "    x = inputs\n",
    "    for _ in range(num_transformer_blocks):\n",
    "        x = transformer_encoder(x, head_size, num_heads, ff_dim, dropout)\n",
    "\n",
    "    x = tf.keras.layers.GlobalAveragePooling1D(data_format=\"channels_first\")(x)\n",
    "    for dim in mlp_units:\n",
    "        x = tf.keras.layers.Dense(dim, activation=\"relu\")(x)\n",
    "        x = tf.keras.layers.Dropout(mlp_dropout)(x)\n",
    "    outputs = tf.keras.layers.Dense(1, activation=\"sigmoid\")(x)\n",
    "    return tf.keras.Model(inputs, outputs)"
   ]
  },
  {
   "cell_type": "code",
   "execution_count": 47,
   "metadata": {},
   "outputs": [],
   "source": [
    "input_shape = X_train.shape[1:]\n",
    "model_transformer = build_model(input_shape, head_size=256, num_heads=4, ff_dim=4, num_transformer_blocks=1, mlp_units=[128], dropout=0.25, mlp_dropout=0.4)\n",
    "\n",
    "model_transformer.compile(loss = 'binary_crossentropy', optimizer = 'adam', metrics = ['accuracy'])"
   ]
  },
  {
   "cell_type": "code",
   "execution_count": 48,
   "metadata": {},
   "outputs": [],
   "source": [
    "from keras.callbacks import EarlyStopping\n",
    "es = EarlyStopping(monitor = 'val_loss', mode = 'min', patience = 0)"
   ]
  },
  {
   "cell_type": "code",
   "execution_count": 49,
   "metadata": {},
   "outputs": [
    {
     "name": "stdout",
     "output_type": "stream",
     "text": [
      "Epoch 1/40\n",
      "27/27 [==============================] - 2s 43ms/step - loss: 0.3448 - accuracy: 0.9521 - val_loss: 0.1084 - val_accuracy: 0.9940\n",
      "Epoch 2/40\n",
      "27/27 [==============================] - 1s 38ms/step - loss: 0.0719 - accuracy: 0.9933 - val_loss: 0.0081 - val_accuracy: 1.0000\n"
     ]
    }
   ],
   "source": [
    "history = model_transformer.fit(X_train, Y_train, epochs = 40,validation_split=0.2, verbose = 1, batch_size=50, callbacks =[es])"
   ]
  },
  {
   "cell_type": "code",
   "execution_count": 50,
   "metadata": {},
   "outputs": [
    {
     "data": {
      "text/plain": [
       "Text(0.5, 51.0, 'Predicted')"
      ]
     },
     "execution_count": 50,
     "metadata": {},
     "output_type": "execute_result"
    },
    {
     "data": {
      "image/png": "[encoded data removed]",
      "text/plain": [
       "<Figure size 576x576 with 2 Axes>"
      ]
     },
     "metadata": {
      "needs_background": "light"
     },
     "output_type": "display_data"
    }
   ],
   "source": [
    "y_pred=(model_transformer.predict(X_test)>0.8).astype(\"int32\")\n",
    "conf_mat = confusion_matrix(Y_test, y_pred)\n",
    "fig, ax = plt.subplots(figsize=(8,8))\n",
    "sns.heatmap(conf_mat, annot=True, cmap=\"Blues\", fmt='d')\n",
    "plt.ylabel('Actual')\n",
    "plt.xlabel('Predicted')"
   ]
  },
  {
   "cell_type": "code",
   "execution_count": 51,
   "metadata": {},
   "outputs": [
    {
     "name": "stdout",
     "output_type": "stream",
     "text": [
      "Accuracy: 0.997608\n",
      "Precison: 1.000000\n",
      "Recall: 0.995169\n",
      "F1: 0.997579\n"
     ]
    }
   ],
   "source": [
    "accuracy = accuracy_score(Y_test, y_pred)\n",
    "print('Accuracy: %f' %accuracy)\n",
    "precision = precision_score(Y_test, y_pred)\n",
    "print('Precison: %f' %precision)\n",
    "recall = recall_score(Y_test, y_pred)\n",
    "print('Recall: %f' %recall)\n",
    "f1 = f1_score(Y_test, y_pred)\n",
    "print('F1: %f' %f1)"
   ]
  },
  {
   "cell_type": "code",
   "execution_count": null,
   "metadata": {},
   "outputs": [],
   "source": []
  }
 ],
 "metadata": {
  "kernelspec": {
   "display_name": "Python 3",
   "language": "python",
   "name": "python3"
  },
  "language_info": {
   "codemirror_mode": {
    "name": "ipython",
    "version": 3
   },
   "file_extension": ".py",
   "mimetype": "text/x-python",
   "name": "python",
   "nbconvert_exporter": "python",
   "pygments_lexer": "ipython3",
   "version": "3.8.10"
  }
 },
 "nbformat": 4,
 "nbformat_minor": 4
}
